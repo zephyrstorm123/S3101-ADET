{
 "cells": [
  {
   "cell_type": "markdown",
   "id": "d697116b",
   "metadata": {},
   "source": [
    "### WEEK 7: Line Plot of IoT Sensors Readings Over Time\n",
    "\n",
    "Exercise is plot a line graph for the data from extracted from the CSV file"
   ]
  },
  {
   "cell_type": "code",
   "execution_count": 1,
   "id": "ecd8274f",
   "metadata": {},
   "outputs": [],
   "source": [
    "# Import dependencies\n",
    "import pandas as pd\n",
    "import matplotlib.pyplot as plt\n",
    "import seaborn as sns"
   ]
  },
  {
   "cell_type": "code",
   "execution_count": 2,
   "id": "e6431a19",
   "metadata": {},
   "outputs": [],
   "source": [
    "#Import the dataset\n",
    "\n",
    "df = pd.read_csv('cleaned_iot_data.csv')"
   ]
  },
  {
   "cell_type": "code",
   "execution_count": 3,
   "id": "0b79b6c9",
   "metadata": {},
   "outputs": [
    {
     "data": {
      "text/html": [
       "<div>\n",
       "<style scoped>\n",
       "    .dataframe tbody tr th:only-of-type {\n",
       "        vertical-align: middle;\n",
       "    }\n",
       "\n",
       "    .dataframe tbody tr th {\n",
       "        vertical-align: top;\n",
       "    }\n",
       "\n",
       "    .dataframe thead th {\n",
       "        text-align: right;\n",
       "    }\n",
       "</style>\n",
       "<table border=\"1\" class=\"dataframe\">\n",
       "  <thead>\n",
       "    <tr style=\"text-align: right;\">\n",
       "      <th></th>\n",
       "      <th>timestamp</th>\n",
       "      <th>patient_ID</th>\n",
       "      <th>heart_rate</th>\n",
       "      <th>blood_pressure</th>\n",
       "      <th>oxygen_level</th>\n",
       "      <th>body_temp</th>\n",
       "    </tr>\n",
       "  </thead>\n",
       "  <tbody>\n",
       "    <tr>\n",
       "      <th>0</th>\n",
       "      <td>2025-05-28 07:40:44</td>\n",
       "      <td>PAT220</td>\n",
       "      <td>79</td>\n",
       "      <td>110/80</td>\n",
       "      <td>99</td>\n",
       "      <td>37.5</td>\n",
       "    </tr>\n",
       "    <tr>\n",
       "      <th>1</th>\n",
       "      <td>2025-05-28 07:42:00</td>\n",
       "      <td>PAT559</td>\n",
       "      <td>64</td>\n",
       "      <td>106/61</td>\n",
       "      <td>98</td>\n",
       "      <td>37.8</td>\n",
       "    </tr>\n",
       "    <tr>\n",
       "      <th>2</th>\n",
       "      <td>2025-05-28 07:42:02</td>\n",
       "      <td>PAT920</td>\n",
       "      <td>69</td>\n",
       "      <td>123/65</td>\n",
       "      <td>96</td>\n",
       "      <td>36.1</td>\n",
       "    </tr>\n",
       "    <tr>\n",
       "      <th>3</th>\n",
       "      <td>2025-05-28 07:42:04</td>\n",
       "      <td>PAT505</td>\n",
       "      <td>74</td>\n",
       "      <td>104/85</td>\n",
       "      <td>97</td>\n",
       "      <td>36.9</td>\n",
       "    </tr>\n",
       "    <tr>\n",
       "      <th>4</th>\n",
       "      <td>2025-05-28 07:42:06</td>\n",
       "      <td>PAT849</td>\n",
       "      <td>78</td>\n",
       "      <td>103/82</td>\n",
       "      <td>95</td>\n",
       "      <td>37.4</td>\n",
       "    </tr>\n",
       "  </tbody>\n",
       "</table>\n",
       "</div>"
      ],
      "text/plain": [
       "             timestamp patient_ID  heart_rate blood_pressure  oxygen_level  \\\n",
       "0  2025-05-28 07:40:44     PAT220          79         110/80            99   \n",
       "1  2025-05-28 07:42:00     PAT559          64         106/61            98   \n",
       "2  2025-05-28 07:42:02     PAT920          69         123/65            96   \n",
       "3  2025-05-28 07:42:04     PAT505          74         104/85            97   \n",
       "4  2025-05-28 07:42:06     PAT849          78         103/82            95   \n",
       "\n",
       "   body_temp  \n",
       "0       37.5  \n",
       "1       37.8  \n",
       "2       36.1  \n",
       "3       36.9  \n",
       "4       37.4  "
      ]
     },
     "execution_count": 3,
     "metadata": {},
     "output_type": "execute_result"
    }
   ],
   "source": [
    "df.head()"
   ]
  },
  {
   "cell_type": "code",
   "execution_count": 4,
   "id": "f511df1c",
   "metadata": {},
   "outputs": [],
   "source": [
    "# Convert the 'timestamp' column to datetime format\n",
    "df['timestamp'] = pd.to_datetime(df['timestamp'])"
   ]
  },
  {
   "cell_type": "code",
   "execution_count": 5,
   "id": "946a898f",
   "metadata": {},
   "outputs": [],
   "source": [
    "sns.set(style=\"whitegrid\")"
   ]
  },
  {
   "cell_type": "code",
   "execution_count": null,
   "id": "67fd406d",
   "metadata": {},
   "outputs": [
    {
     "ename": "SyntaxError",
     "evalue": "invalid syntax (4224361354.py, line 4)",
     "output_type": "error",
     "traceback": [
      "  \u001b[36mCell\u001b[39m\u001b[36m \u001b[39m\u001b[32mIn[6]\u001b[39m\u001b[32m, line 4\u001b[39m\n\u001b[31m    \u001b[39m\u001b[31msns.lineplot(x=df['timestamp'], y=df['body_temp']. marker=\"o\", color='blue')\u001b[39m\n                                                             ^\n\u001b[31mSyntaxError\u001b[39m\u001b[31m:\u001b[39m invalid syntax\n"
     ]
    }
   ],
   "source": [
    "#Create a line plot for the 'temperature' column over time\n",
    "plt.figure(figsize=(12,6))\n",
    "\n",
    "sns.lineplot(x=df['timestamp'], y=df['body_temp'], marker=\"o\", color='blue')\n",
    "\n",
    "plt.xticks(rotation=45)\n",
    "plt.title('Body Temperature Over Time', fontsize=14)\n",
    "plt.xlabel('Timestamp', fontsize=12)\n",
    "plt.ylabel('Body Temperature (°C)', fontsize=12)\n",
    "plt.legend(title='Body Temperature', loc='upper right')\n",
    "\n",
    "plt.show()"
   ]
  },
  {
   "cell_type": "code",
   "execution_count": null,
   "id": "44191daf",
   "metadata": {},
   "outputs": [],
   "source": []
  }
 ],
 "metadata": {
  "kernelspec": {
   "display_name": "env",
   "language": "python",
   "name": "python3"
  },
  "language_info": {
   "codemirror_mode": {
    "name": "ipython",
    "version": 3
   },
   "file_extension": ".py",
   "mimetype": "text/x-python",
   "name": "python",
   "nbconvert_exporter": "python",
   "pygments_lexer": "ipython3",
   "version": "3.11.5"
  }
 },
 "nbformat": 4,
 "nbformat_minor": 5
}
