{
 "cells": [
  {
   "cell_type": "code",
   "execution_count": 2,
   "id": "dd4968f2-66aa-4f3f-9adc-9aa69c94ba9d",
   "metadata": {},
   "outputs": [
    {
     "name": "stdout",
     "output_type": "stream",
     "text": [
      "Requirement already satisfied: web3 in e:\\mmdc\\it152-ipt\\.venv\\lib\\site-packages (7.12.0)Note: you may need to restart the kernel to use updated packages.\n",
      "\n",
      "Requirement already satisfied: eth-abi>=5.0.1 in e:\\mmdc\\it152-ipt\\.venv\\lib\\site-packages (from web3) (5.2.0)\n",
      "Requirement already satisfied: eth-account>=0.13.6 in e:\\mmdc\\it152-ipt\\.venv\\lib\\site-packages (from web3) (0.13.7)\n",
      "Requirement already satisfied: eth-hash>=0.5.1 in e:\\mmdc\\it152-ipt\\.venv\\lib\\site-packages (from eth-hash[pycryptodome]>=0.5.1->web3) (0.7.1)\n",
      "Requirement already satisfied: eth-typing>=5.0.0 in e:\\mmdc\\it152-ipt\\.venv\\lib\\site-packages (from web3) (5.2.1)\n",
      "Requirement already satisfied: eth-utils>=5.0.0 in e:\\mmdc\\it152-ipt\\.venv\\lib\\site-packages (from web3) (5.3.0)\n",
      "Requirement already satisfied: hexbytes>=1.2.0 in e:\\mmdc\\it152-ipt\\.venv\\lib\\site-packages (from web3) (1.3.1)\n",
      "Requirement already satisfied: aiohttp>=3.7.4.post0 in e:\\mmdc\\it152-ipt\\.venv\\lib\\site-packages (from web3) (3.12.2)\n",
      "Requirement already satisfied: pydantic>=2.4.0 in e:\\mmdc\\it152-ipt\\.venv\\lib\\site-packages (from web3) (2.11.5)\n",
      "Requirement already satisfied: pywin32>=223 in e:\\mmdc\\it152-ipt\\.venv\\lib\\site-packages (from web3) (310)\n",
      "Requirement already satisfied: requests>=2.23.0 in e:\\mmdc\\it152-ipt\\.venv\\lib\\site-packages (from web3) (2.32.3)\n",
      "Requirement already satisfied: typing-extensions>=4.0.1 in e:\\mmdc\\it152-ipt\\.venv\\lib\\site-packages (from web3) (4.13.2)\n",
      "Requirement already satisfied: types-requests>=2.0.0 in e:\\mmdc\\it152-ipt\\.venv\\lib\\site-packages (from web3) (2.32.0.20250515)\n",
      "Requirement already satisfied: websockets<16.0.0,>=10.0.0 in e:\\mmdc\\it152-ipt\\.venv\\lib\\site-packages (from web3) (15.0.1)\n",
      "Requirement already satisfied: pyunormalize>=15.0.0 in e:\\mmdc\\it152-ipt\\.venv\\lib\\site-packages (from web3) (16.0.0)\n",
      "Requirement already satisfied: aiohappyeyeballs>=2.5.0 in e:\\mmdc\\it152-ipt\\.venv\\lib\\site-packages (from aiohttp>=3.7.4.post0->web3) (2.6.1)\n",
      "Requirement already satisfied: aiosignal>=1.1.2 in e:\\mmdc\\it152-ipt\\.venv\\lib\\site-packages (from aiohttp>=3.7.4.post0->web3) (1.3.2)\n",
      "Requirement already satisfied: async-timeout<6.0,>=4.0 in e:\\mmdc\\it152-ipt\\.venv\\lib\\site-packages (from aiohttp>=3.7.4.post0->web3) (5.0.1)\n",
      "Requirement already satisfied: attrs>=17.3.0 in e:\\mmdc\\it152-ipt\\.venv\\lib\\site-packages (from aiohttp>=3.7.4.post0->web3) (25.3.0)\n",
      "Requirement already satisfied: frozenlist>=1.1.1 in e:\\mmdc\\it152-ipt\\.venv\\lib\\site-packages (from aiohttp>=3.7.4.post0->web3) (1.6.0)\n",
      "Requirement already satisfied: multidict<7.0,>=4.5 in e:\\mmdc\\it152-ipt\\.venv\\lib\\site-packages (from aiohttp>=3.7.4.post0->web3) (6.4.4)\n",
      "Requirement already satisfied: propcache>=0.2.0 in e:\\mmdc\\it152-ipt\\.venv\\lib\\site-packages (from aiohttp>=3.7.4.post0->web3) (0.3.1)\n",
      "Requirement already satisfied: yarl<2.0,>=1.17.0 in e:\\mmdc\\it152-ipt\\.venv\\lib\\site-packages (from aiohttp>=3.7.4.post0->web3) (1.20.0)\n",
      "Requirement already satisfied: idna>=2.0 in e:\\mmdc\\it152-ipt\\.venv\\lib\\site-packages (from yarl<2.0,>=1.17.0->aiohttp>=3.7.4.post0->web3) (3.10)\n",
      "Requirement already satisfied: parsimonious<0.11.0,>=0.10.0 in e:\\mmdc\\it152-ipt\\.venv\\lib\\site-packages (from eth-abi>=5.0.1->web3) (0.10.0)\n",
      "Requirement already satisfied: regex>=2022.3.15 in e:\\mmdc\\it152-ipt\\.venv\\lib\\site-packages (from parsimonious<0.11.0,>=0.10.0->eth-abi>=5.0.1->web3) (2024.11.6)\n",
      "Requirement already satisfied: bitarray>=2.4.0 in e:\\mmdc\\it152-ipt\\.venv\\lib\\site-packages (from eth-account>=0.13.6->web3) (3.4.2)\n",
      "Requirement already satisfied: eth-keyfile<0.9.0,>=0.7.0 in e:\\mmdc\\it152-ipt\\.venv\\lib\\site-packages (from eth-account>=0.13.6->web3) (0.8.1)\n",
      "Requirement already satisfied: eth-keys>=0.4.0 in e:\\mmdc\\it152-ipt\\.venv\\lib\\site-packages (from eth-account>=0.13.6->web3) (0.7.0)\n",
      "Requirement already satisfied: eth-rlp>=2.1.0 in e:\\mmdc\\it152-ipt\\.venv\\lib\\site-packages (from eth-account>=0.13.6->web3) (2.2.0)\n",
      "Requirement already satisfied: rlp>=1.0.0 in e:\\mmdc\\it152-ipt\\.venv\\lib\\site-packages (from eth-account>=0.13.6->web3) (4.1.0)\n",
      "Requirement already satisfied: ckzg>=2.0.0 in e:\\mmdc\\it152-ipt\\.venv\\lib\\site-packages (from eth-account>=0.13.6->web3) (2.1.1)\n",
      "Requirement already satisfied: pycryptodome<4,>=3.6.6 in e:\\mmdc\\it152-ipt\\.venv\\lib\\site-packages (from eth-keyfile<0.9.0,>=0.7.0->eth-account>=0.13.6->web3) (3.23.0)\n",
      "Requirement already satisfied: cytoolz>=0.10.1 in e:\\mmdc\\it152-ipt\\.venv\\lib\\site-packages (from eth-utils>=5.0.0->web3) (1.0.1)\n",
      "Requirement already satisfied: annotated-types>=0.6.0 in e:\\mmdc\\it152-ipt\\.venv\\lib\\site-packages (from pydantic>=2.4.0->web3) (0.7.0)\n",
      "Requirement already satisfied: pydantic-core==2.33.2 in e:\\mmdc\\it152-ipt\\.venv\\lib\\site-packages (from pydantic>=2.4.0->web3) (2.33.2)\n",
      "Requirement already satisfied: typing-inspection>=0.4.0 in e:\\mmdc\\it152-ipt\\.venv\\lib\\site-packages (from pydantic>=2.4.0->web3) (0.4.1)\n",
      "Requirement already satisfied: toolz>=0.8.0 in e:\\mmdc\\it152-ipt\\.venv\\lib\\site-packages (from cytoolz>=0.10.1->eth-utils>=5.0.0->web3) (1.0.0)\n",
      "Requirement already satisfied: charset-normalizer<4,>=2 in e:\\mmdc\\it152-ipt\\.venv\\lib\\site-packages (from requests>=2.23.0->web3) (3.4.2)\n",
      "Requirement already satisfied: urllib3<3,>=1.21.1 in e:\\mmdc\\it152-ipt\\.venv\\lib\\site-packages (from requests>=2.23.0->web3) (2.4.0)\n",
      "Requirement already satisfied: certifi>=2017.4.17 in e:\\mmdc\\it152-ipt\\.venv\\lib\\site-packages (from requests>=2.23.0->web3) (2025.4.26)\n"
     ]
    }
   ],
   "source": [
    "pip install web3"
   ]
  },
  {
   "cell_type": "code",
   "execution_count": 23,
   "id": "0dc86d02-1af0-4112-8a7c-62126a67038d",
   "metadata": {},
   "outputs": [
    {
     "name": "stdout",
     "output_type": "stream",
     "text": [
      "✅ Connected to Ganache successfully!\n"
     ]
    }
   ],
   "source": [
    "from web3 import Web3\n",
    "\n",
    "\n",
    "# Connect to local Ganache blockchain\n",
    "ganache_url = \"http://127.0.0.1:7545\"\n",
    "web3 = Web3(Web3.HTTPProvider(ganache_url))\n",
    "\n",
    "\n",
    "if web3.is_connected():\n",
    "    print(\"✅ Connected to Ganache successfully!\")\n",
    "else:\n",
    "    print(\"❌ Connection failed. Ensure Ganache is running.\")"
   ]
  },
  {
   "cell_type": "code",
   "execution_count": 1,
   "id": "abd6b0a8-7d5c-41fa-9b22-52244e140142",
   "metadata": {},
   "outputs": [
    {
     "name": "stdout",
     "output_type": "stream",
     "text": [
      "✅ Connected to Ganache successfully!\n"
     ]
    }
   ],
   "source": [
    "from web3 import Web3\n",
    "\n",
    "\n",
    "# Connect to local Ganache blockchain\n",
    "ganache_url = \"http://127.0.0.1:7545\"\n",
    "web3 = Web3(Web3.HTTPProvider(ganache_url))\n",
    "\n",
    "\n",
    "if web3.is_connected():\n",
    "    print(\"✅ Connected to Ganache successfully!\")\n",
    "else:\n",
    "    print(\"❌ Connection failed. Ensure Ganache is running.\")"
   ]
  },
  {
   "cell_type": "code",
   "execution_count": 3,
   "id": "4c73dab4",
   "metadata": {},
   "outputs": [],
   "source": [
    "# Replace with actual contract address from Remix\n",
    "contract_address = \"0xda8133873eb345c0a58a4d17b6cd24706ba352e0\"\n",
    "check_sum_address = Web3.to_checksum_address(contract_address)"
   ]
  },
  {
   "cell_type": "code",
   "execution_count": 5,
   "id": "a3d9e5f2-282d-45b7-859e-1d6fcc0ce5a5",
   "metadata": {},
   "outputs": [],
   "source": [
    "# Paste the ABI from Remix\n",
    "abi = [\n",
    "\t{\n",
    "\t\t\"inputs\": [],\n",
    "\t\t\"stateMutability\": \"nonpayable\",\n",
    "\t\t\"type\": \"constructor\"\n",
    "\t},\n",
    "\t{\n",
    "\t\t\"anonymous\": False,\n",
    "\t\t\"inputs\": [\n",
    "\t\t\t{\n",
    "\t\t\t\t\"indexed\": False,\n",
    "\t\t\t\t\"internalType\": \"uint256\",\n",
    "\t\t\t\t\"name\": \"timestamp\",\n",
    "\t\t\t\t\"type\": \"uint256\"\n",
    "\t\t\t},\n",
    "\t\t\t{\n",
    "\t\t\t\t\"indexed\": False,\n",
    "\t\t\t\t\"internalType\": \"string\",\n",
    "\t\t\t\t\"name\": \"patient_id\",\n",
    "\t\t\t\t\"type\": \"string\"\n",
    "\t\t\t},\n",
    "\t\t\t{\n",
    "\t\t\t\t\"indexed\": False,\n",
    "\t\t\t\t\"internalType\": \"uint256\",\n",
    "\t\t\t\t\"name\": \"heart_rate\",\n",
    "\t\t\t\t\"type\": \"uint256\"\n",
    "\t\t\t},\n",
    "\t\t\t{\n",
    "\t\t\t\t\"indexed\": False,\n",
    "\t\t\t\t\"internalType\": \"string\",\n",
    "\t\t\t\t\"name\": \"blood_pressure\",\n",
    "\t\t\t\t\"type\": \"string\"\n",
    "\t\t\t},\n",
    "\t\t\t{\n",
    "\t\t\t\t\"indexed\": False,\n",
    "\t\t\t\t\"internalType\": \"uint256\",\n",
    "\t\t\t\t\"name\": \"oxygen_level\",\n",
    "\t\t\t\t\"type\": \"uint256\"\n",
    "\t\t\t},\n",
    "\t\t\t{\n",
    "\t\t\t\t\"indexed\": False,\n",
    "\t\t\t\t\"internalType\": \"string\",\n",
    "\t\t\t\t\"name\": \"body_temp\",\n",
    "\t\t\t\t\"type\": \"string\"\n",
    "\t\t\t}\n",
    "\t\t],\n",
    "\t\t\"name\": \"DataStored\",\n",
    "\t\t\"type\": \"event\"\n",
    "\t},\n",
    "\t{\n",
    "\t\t\"inputs\": [\n",
    "\t\t\t{\n",
    "\t\t\t\t\"internalType\": \"string\",\n",
    "\t\t\t\t\"name\": \"_patient_id\",\n",
    "\t\t\t\t\"type\": \"string\"\n",
    "\t\t\t},\n",
    "\t\t\t{\n",
    "\t\t\t\t\"internalType\": \"uint256\",\n",
    "\t\t\t\t\"name\": \"_heart_rate\",\n",
    "\t\t\t\t\"type\": \"uint256\"\n",
    "\t\t\t},\n",
    "\t\t\t{\n",
    "\t\t\t\t\"internalType\": \"string\",\n",
    "\t\t\t\t\"name\": \"_blood_pressure\",\n",
    "\t\t\t\t\"type\": \"string\"\n",
    "\t\t\t},\n",
    "\t\t\t{\n",
    "\t\t\t\t\"internalType\": \"uint256\",\n",
    "\t\t\t\t\"name\": \"_oxygen_level\",\n",
    "\t\t\t\t\"type\": \"uint256\"\n",
    "\t\t\t},\n",
    "\t\t\t{\n",
    "\t\t\t\t\"internalType\": \"string\",\n",
    "\t\t\t\t\"name\": \"_body_temp\",\n",
    "\t\t\t\t\"type\": \"string\"\n",
    "\t\t\t}\n",
    "\t\t],\n",
    "\t\t\"name\": \"storeData\",\n",
    "\t\t\"outputs\": [],\n",
    "\t\t\"stateMutability\": \"nonpayable\",\n",
    "\t\t\"type\": \"function\"\n",
    "\t},\n",
    "\t{\n",
    "\t\t\"inputs\": [\n",
    "\t\t\t{\n",
    "\t\t\t\t\"internalType\": \"uint256\",\n",
    "\t\t\t\t\"name\": \"\",\n",
    "\t\t\t\t\"type\": \"uint256\"\n",
    "\t\t\t}\n",
    "\t\t],\n",
    "\t\t\"name\": \"dataRecords\",\n",
    "\t\t\"outputs\": [\n",
    "\t\t\t{\n",
    "\t\t\t\t\"internalType\": \"uint256\",\n",
    "\t\t\t\t\"name\": \"timestamp\",\n",
    "\t\t\t\t\"type\": \"uint256\"\n",
    "\t\t\t},\n",
    "\t\t\t{\n",
    "\t\t\t\t\"internalType\": \"string\",\n",
    "\t\t\t\t\"name\": \"patient_id\",\n",
    "\t\t\t\t\"type\": \"string\"\n",
    "\t\t\t},\n",
    "\t\t\t{\n",
    "\t\t\t\t\"internalType\": \"uint256\",\n",
    "\t\t\t\t\"name\": \"heart_rate\",\n",
    "\t\t\t\t\"type\": \"uint256\"\n",
    "\t\t\t},\n",
    "\t\t\t{\n",
    "\t\t\t\t\"internalType\": \"string\",\n",
    "\t\t\t\t\"name\": \"blood_pressure\",\n",
    "\t\t\t\t\"type\": \"string\"\n",
    "\t\t\t},\n",
    "\t\t\t{\n",
    "\t\t\t\t\"internalType\": \"uint256\",\n",
    "\t\t\t\t\"name\": \"oxygen_level\",\n",
    "\t\t\t\t\"type\": \"uint256\"\n",
    "\t\t\t},\n",
    "\t\t\t{\n",
    "\t\t\t\t\"internalType\": \"string\",\n",
    "\t\t\t\t\"name\": \"body_temp\",\n",
    "\t\t\t\t\"type\": \"string\"\n",
    "\t\t\t}\n",
    "\t\t],\n",
    "\t\t\"stateMutability\": \"view\",\n",
    "\t\t\"type\": \"function\"\n",
    "\t},\n",
    "\t{\n",
    "\t\t\"inputs\": [\n",
    "\t\t\t{\n",
    "\t\t\t\t\"internalType\": \"uint256\",\n",
    "\t\t\t\t\"name\": \"index\",\n",
    "\t\t\t\t\"type\": \"uint256\"\n",
    "\t\t\t}\n",
    "\t\t],\n",
    "\t\t\"name\": \"getRecord\",\n",
    "\t\t\"outputs\": [\n",
    "\t\t\t{\n",
    "\t\t\t\t\"internalType\": \"uint256\",\n",
    "\t\t\t\t\"name\": \"timestamp\",\n",
    "\t\t\t\t\"type\": \"uint256\"\n",
    "\t\t\t},\n",
    "\t\t\t{\n",
    "\t\t\t\t\"internalType\": \"string\",\n",
    "\t\t\t\t\"name\": \"patient_id\",\n",
    "\t\t\t\t\"type\": \"string\"\n",
    "\t\t\t},\n",
    "\t\t\t{\n",
    "\t\t\t\t\"internalType\": \"uint256\",\n",
    "\t\t\t\t\"name\": \"heart_rate\",\n",
    "\t\t\t\t\"type\": \"uint256\"\n",
    "\t\t\t},\n",
    "\t\t\t{\n",
    "\t\t\t\t\"internalType\": \"string\",\n",
    "\t\t\t\t\"name\": \"blood_pressure\",\n",
    "\t\t\t\t\"type\": \"string\"\n",
    "\t\t\t},\n",
    "\t\t\t{\n",
    "\t\t\t\t\"internalType\": \"uint256\",\n",
    "\t\t\t\t\"name\": \"oxygen_level\",\n",
    "\t\t\t\t\"type\": \"uint256\"\n",
    "\t\t\t},\n",
    "\t\t\t{\n",
    "\t\t\t\t\"internalType\": \"string\",\n",
    "\t\t\t\t\"name\": \"body_temp\",\n",
    "\t\t\t\t\"type\": \"string\"\n",
    "\t\t\t}\n",
    "\t\t],\n",
    "\t\t\"stateMutability\": \"view\",\n",
    "\t\t\"type\": \"function\"\n",
    "\t},\n",
    "\t{\n",
    "\t\t\"inputs\": [],\n",
    "\t\t\"name\": \"getTotalRecords\",\n",
    "\t\t\"outputs\": [\n",
    "\t\t\t{\n",
    "\t\t\t\t\"internalType\": \"uint256\",\n",
    "\t\t\t\t\"name\": \"\",\n",
    "\t\t\t\t\"type\": \"uint256\"\n",
    "\t\t\t}\n",
    "\t\t],\n",
    "\t\t\"stateMutability\": \"view\",\n",
    "\t\t\"type\": \"function\"\n",
    "\t},\n",
    "\t{\n",
    "\t\t\"inputs\": [],\n",
    "\t\t\"name\": \"MAX_ENTRIES\",\n",
    "\t\t\"outputs\": [\n",
    "\t\t\t{\n",
    "\t\t\t\t\"internalType\": \"uint256\",\n",
    "\t\t\t\t\"name\": \"\",\n",
    "\t\t\t\t\"type\": \"uint256\"\n",
    "\t\t\t}\n",
    "\t\t],\n",
    "\t\t\"stateMutability\": \"view\",\n",
    "\t\t\"type\": \"function\"\n",
    "\t},\n",
    "\t{\n",
    "\t\t\"inputs\": [],\n",
    "\t\t\"name\": \"owner\",\n",
    "\t\t\"outputs\": [\n",
    "\t\t\t{\n",
    "\t\t\t\t\"internalType\": \"address\",\n",
    "\t\t\t\t\"name\": \"\",\n",
    "\t\t\t\t\"type\": \"address\"\n",
    "\t\t\t}\n",
    "\t\t],\n",
    "\t\t\"stateMutability\": \"view\",\n",
    "\t\t\"type\": \"function\"\n",
    "\t}\n",
    "]# Replace with your contract ABI"
   ]
  },
  {
   "cell_type": "code",
   "execution_count": 6,
   "id": "92c3f41d-4aa8-4aac-b455-0ea9f1f70214",
   "metadata": {},
   "outputs": [
    {
     "name": "stdout",
     "output_type": "stream",
     "text": [
      "✅ Connected to Smart Contract at 0xda8133873eb345c0a58a4d17b6cd24706ba352e0\n"
     ]
    }
   ],
   "source": [
    "# Load the smart contract\n",
    "contract = web3.eth.contract(address=check_sum_address, abi=abi)\n",
    "\n",
    "\n",
    "# Set the default sender address (first account from Ganache)\n",
    "web3.eth.default_account = web3.eth.accounts[0]\n",
    "\n",
    "\n",
    "print(f\"✅ Connected to Smart Contract at {contract_address}\")\n"
   ]
  },
  {
   "cell_type": "code",
   "execution_count": 7,
   "id": "c670f822-6bde-43f8-a88a-3f421c4e904b",
   "metadata": {},
   "outputs": [],
   "source": [
    "#check to see if totalRecords can be extracted\n",
    "\n",
    "def get_total_records():\n",
    "    try:\n",
    "        # 1. Create a contract instance\n",
    "        iot_contract = web3.eth.contract(address=check_sum_address, abi=abi)\n",
    "        \n",
    "        # 2. Call the getTotalRecords() function\n",
    "        # For 'view' or 'pure' functions like getTotalRecords, you use .call()\n",
    "        total_records = iot_contract.functions.getTotalRecords().call()\n",
    "        \n",
    "        # 3. Print the result\n",
    "        print(f\"Successfully called getTotalRecords().\")\n",
    "        print(f\"Total records currently stored in the contract: {total_records}\")\n",
    "        \n",
    "        if total_records == 0:\n",
    "            print(\"The contract is responding, and there are currently 0 records (which is expected for a new contract).\")\n",
    "        elif total_records > 0:\n",
    "            print(f\"The contract is responding, and it has {total_records} record(s).\")\n",
    "        \n",
    "    except Exception as e:\n",
    "        print(f\"An error occurred while trying to call getTotalRecords(): {e}\")\n",
    "        print(\"Please ensure:\")\n",
    "        print(\"1. Your Ganache instance is running.\")\n",
    "        print(\"2. The contract ABI is correct.\")\n",
    "        print(\"3. The contract address is correct and the contract is deployed there.\")\n",
    "        print(\"4. You resolved any previous deployment issues (like 'invalid opcode').\")\n"
   ]
  },
  {
   "cell_type": "code",
   "execution_count": 8,
   "id": "3330cfe7-269a-4814-927d-9cbf58510b5b",
   "metadata": {},
   "outputs": [
    {
     "name": "stdout",
     "output_type": "stream",
     "text": [
      "Successfully called getTotalRecords().\n",
      "Total records currently stored in the contract: 101\n",
      "The contract is responding, and it has 101 record(s).\n"
     ]
    }
   ],
   "source": [
    "get_total_records()"
   ]
  },
  {
   "cell_type": "code",
   "execution_count": 44,
   "id": "77a3d978",
   "metadata": {},
   "outputs": [
    {
     "name": "stdout",
     "output_type": "stream",
     "text": [
      "✅ Dummy data stored on blockchain!\n"
     ]
    }
   ],
   "source": [
    "txn = contract.functions.storeData(\"PAT220\", 79, \"110/80\", 99, \"37.5\").transact({\n",
    "    'from': web3.eth.default_account,\n",
    "    'gas': 1000000\n",
    "})\n",
    "\n",
    "web3.eth.wait_for_transaction_receipt(txn)\n",
    "print(\"✅ Dummy data stored on blockchain!\")"
   ]
  },
  {
   "cell_type": "code",
   "execution_count": 45,
   "id": "c7e51355",
   "metadata": {},
   "outputs": [
    {
     "name": "stdout",
     "output_type": "stream",
     "text": [
      "Successfully called getTotalRecords().\n",
      "Total records currently stored in the contract: 1\n",
      "The contract is responding, and it has 1 record(s).\n"
     ]
    }
   ],
   "source": [
    "get_total_records()"
   ]
  },
  {
   "cell_type": "code",
   "execution_count": 47,
   "id": "886d4159",
   "metadata": {},
   "outputs": [
    {
     "name": "stdout",
     "output_type": "stream",
     "text": [
      "✅ Retrieved Record: [1748418044, 'PAT220', 79, '110/80', 99, '37.5']\n"
     ]
    }
   ],
   "source": [
    "retrieved_record = contract.functions.getRecord(0).call()\n",
    "print(f\"✅ Retrieved Record: {retrieved_record}\")"
   ]
  },
  {
   "cell_type": "code",
   "execution_count": 37,
   "id": "e478655b",
   "metadata": {},
   "outputs": [],
   "source": [
    "\n",
    "import pandas as pd\n",
    "\n",
    "# Retrieve Data Records\n",
    "\n",
    "df = pd.read_csv(\"C:/Users/Tone/Desktop/healthcare_data.csv\")"
   ]
  },
  {
   "cell_type": "code",
   "execution_count": 38,
   "id": "4de2f248",
   "metadata": {},
   "outputs": [
    {
     "data": {
      "text/html": [
       "<div>\n",
       "<style scoped>\n",
       "    .dataframe tbody tr th:only-of-type {\n",
       "        vertical-align: middle;\n",
       "    }\n",
       "\n",
       "    .dataframe tbody tr th {\n",
       "        vertical-align: top;\n",
       "    }\n",
       "\n",
       "    .dataframe thead th {\n",
       "        text-align: right;\n",
       "    }\n",
       "</style>\n",
       "<table border=\"1\" class=\"dataframe\">\n",
       "  <thead>\n",
       "    <tr style=\"text-align: right;\">\n",
       "      <th></th>\n",
       "      <th>timestamp</th>\n",
       "      <th>patient_id</th>\n",
       "      <th>heart_rate</th>\n",
       "      <th>blood_pressure</th>\n",
       "      <th>oxygen_level</th>\n",
       "      <th>body_temp</th>\n",
       "    </tr>\n",
       "  </thead>\n",
       "  <tbody>\n",
       "    <tr>\n",
       "      <th>0</th>\n",
       "      <td>2025-05-06 09:42:37.251873</td>\n",
       "      <td>PAT559</td>\n",
       "      <td>64</td>\n",
       "      <td>106/61</td>\n",
       "      <td>98</td>\n",
       "      <td>37.8</td>\n",
       "    </tr>\n",
       "    <tr>\n",
       "      <th>1</th>\n",
       "      <td>2025-05-05 20:57:37.252093</td>\n",
       "      <td>PAT920</td>\n",
       "      <td>69</td>\n",
       "      <td>123/65</td>\n",
       "      <td>96</td>\n",
       "      <td>36.1</td>\n",
       "    </tr>\n",
       "    <tr>\n",
       "      <th>2</th>\n",
       "      <td>2025-05-06 03:03:37.252152</td>\n",
       "      <td>PAT505</td>\n",
       "      <td>74</td>\n",
       "      <td>104/85</td>\n",
       "      <td>97</td>\n",
       "      <td>36.9</td>\n",
       "    </tr>\n",
       "    <tr>\n",
       "      <th>3</th>\n",
       "      <td>2025-05-06 02:36:37.252197</td>\n",
       "      <td>PAT849</td>\n",
       "      <td>78</td>\n",
       "      <td>103/82</td>\n",
       "      <td>95</td>\n",
       "      <td>37.4</td>\n",
       "    </tr>\n",
       "    <tr>\n",
       "      <th>4</th>\n",
       "      <td>2025-05-05 20:12:37.252239</td>\n",
       "      <td>PAT954</td>\n",
       "      <td>69</td>\n",
       "      <td>126/73</td>\n",
       "      <td>96</td>\n",
       "      <td>36.6</td>\n",
       "    </tr>\n",
       "  </tbody>\n",
       "</table>\n",
       "</div>"
      ],
      "text/plain": [
       "                    timestamp patient_id  heart_rate blood_pressure  \\\n",
       "0  2025-05-06 09:42:37.251873     PAT559          64         106/61   \n",
       "1  2025-05-05 20:57:37.252093     PAT920          69         123/65   \n",
       "2  2025-05-06 03:03:37.252152     PAT505          74         104/85   \n",
       "3  2025-05-06 02:36:37.252197     PAT849          78         103/82   \n",
       "4  2025-05-05 20:12:37.252239     PAT954          69         126/73   \n",
       "\n",
       "   oxygen_level  body_temp  \n",
       "0            98       37.8  \n",
       "1            96       36.1  \n",
       "2            97       36.9  \n",
       "3            95       37.4  \n",
       "4            96       36.6  "
      ]
     },
     "execution_count": 38,
     "metadata": {},
     "output_type": "execute_result"
    }
   ],
   "source": [
    "df.head()"
   ]
  },
  {
   "cell_type": "code",
   "execution_count": 48,
   "id": "2968a13a",
   "metadata": {},
   "outputs": [],
   "source": [
    "import time\n",
    "\n",
    "\n",
    "def send_iot_data(patient_id, heart_rate, blood_pressure, oxygen_level, body_temp):\n",
    "    \"\"\"Sends IoT data to the deployed smart contract\"\"\"\n",
    "    txn = contract.functions.storeData(patient_id, heart_rate, blood_pressure, oxygen_level, body_temp).transact({\n",
    "        'from': web3.eth.default_account,\n",
    "        'gas': 3000000\n",
    "    })\n",
    "   \n",
    "    receipt = web3.eth.wait_for_transaction_receipt(txn)\n",
    "    print(f\"✅ Data Stored: {patient_id}|{heart_rate}|{blood_pressure}|{oxygen_level}|{body_temp}, Txn Hash: {receipt.transactionHash.hex()}\")\n"
   ]
  },
  {
   "cell_type": "code",
   "execution_count": 50,
   "id": "98a9dd26",
   "metadata": {},
   "outputs": [
    {
     "name": "stdout",
     "output_type": "stream",
     "text": [
      "✅ Data Stored: PAT559|64|106/61|98|37.8, Txn Hash: 78d81e1e72b74dca637956ea5403b3cca2a4fdfa649828b9c540982f926642a0\n",
      "✅ Data Stored: PAT920|69|123/65|96|36.1, Txn Hash: c2abaae0f3c1e302c162a227fdb4831fba4ee9920602d196e9b5abfa723b8068\n",
      "✅ Data Stored: PAT505|74|104/85|97|36.9, Txn Hash: 3ca22b46b67a9196dd8201df6f10889c7bba6e58073389c4d04802dba24971de\n",
      "✅ Data Stored: PAT849|78|103/82|95|37.4, Txn Hash: 49ee34baa1ace6c54daee09987ddd688afde2753dbb7e0f4e1ae855c44cff49b\n",
      "✅ Data Stored: PAT954|69|126/73|96|36.6, Txn Hash: b01c49f9333fbe3d956067eb2ffb20453d42eb810484f19e8b8de90f71b3e51f\n",
      "✅ Data Stored: PAT977|78|106/69|98|36.6, Txn Hash: 13255da3a23fe1fb1697b7720885c0316028281b76371b5e470087b5d23852b8\n",
      "✅ Data Stored: PAT823|61|132/74|96|37.2, Txn Hash: 28ecc42c3083c2f9990861be4ab6dbaa040ab1b7fcbcd1a9f4b6f17ffa2f441e\n",
      "✅ Data Stored: PAT833|87|139/77|95|37.6, Txn Hash: 3a4d2dc1a2ac2fd480a3352b31a7fd96e0d655e25150aa9adbeeef3e683d7608\n",
      "✅ Data Stored: PAT462|76|129/85|97|36.9, Txn Hash: 3ec43a19d3c622b6d99bb195020e84a4254a0d467b9ac160d2b30999849b6485\n",
      "✅ Data Stored: PAT799|97|110/70|95|36.1, Txn Hash: 94f7249f86367c39dfaba23bd64e23595483aeb4f37618e0353844136cd484a1\n",
      "✅ Data Stored: PAT483|86|105/60|97|37.5, Txn Hash: 26a874fdd67ebb452c28df5078dbd6139dddd2f7a79bac670fd90fe164c09c6f\n",
      "✅ Data Stored: PAT505|75|100/67|99|37.9, Txn Hash: b6798f015e09a75d27991756d6b8c458adfdfdfae0f0e4489c68b867ad8ecb81\n",
      "✅ Data Stored: PAT275|71|105/84|96|37.6, Txn Hash: 48a601d37f15c08be8a135c84b6709331e49d2a75fbe7a7693ab36b6fe878d74\n",
      "✅ Data Stored: PAT905|66|103/83|97|37.1, Txn Hash: 58853d409758921792e349c8f464f889d2b581eef89676d060083cc1380eac90\n",
      "✅ Data Stored: PAT987|82|120/73|98|37.7, Txn Hash: 29bf8be7f5fc61b5939aa4f5b251bba216ddd4c141a241aec3cebd437578410f\n",
      "✅ Data Stored: PAT302|83|130/72|98|37.7, Txn Hash: dfec78502aec5803fb21e7fd3282d3d3b6a79b1ec224e499cf5e1a36bfab710e\n",
      "✅ Data Stored: PAT990|75|116/73|96|37.9, Txn Hash: bc3632612300b777f972f462fb066f3f09791a686a458be7fd32e44e27fae010\n",
      "✅ Data Stored: PAT102|94|115/60|98|36.6, Txn Hash: a6bb7cef82ef3822b4a15d48182afa91d0e3a3dafe5007376dde1ccc0f776028\n",
      "✅ Data Stored: PAT478|87|127/74|96|37.9, Txn Hash: 208ec6ec14ba78aa1cd80199755740e8a3d7293c364dc54fe6057c836b3a4b68\n",
      "✅ Data Stored: PAT533|92|119/68|95|37.6, Txn Hash: f8675731243c7b80d423e961e84de23f625f47bf26403817fea69cf36aca3c84\n",
      "✅ Data Stored: PAT292|79|121/61|97|36.3, Txn Hash: 445e2dbf6616cbd0afd5453591c2dc527a3a0454ae1b7be3b822f7aa7e40d12c\n",
      "✅ Data Stored: PAT261|90|126/63|95|36.6, Txn Hash: 0a856e9178195b4aeb95685f8165e23942d3802b569f72ad5b28bf8e7b7b3e76\n",
      "✅ Data Stored: PAT657|90|104/67|98|38.0, Txn Hash: ec6e53a82f7d42a64a9c402d491aba74acbafc49a1fc9bb90daa4e4f6b6b4965\n",
      "✅ Data Stored: PAT968|62|101/77|95|36.3, Txn Hash: a7d854a13073b87a1f4db1b69645848425c2b0918cc67d41d25d27f55c68fe71\n",
      "✅ Data Stored: PAT967|93|104/67|98|36.6, Txn Hash: 299e8284c55c00a16d996d9007f8890bd67de2e2833817d0b3da0bbf59f483ff\n",
      "✅ Data Stored: PAT251|65|130/70|95|37.5, Txn Hash: b966aeee62806b59750a56c3d5e1973ddcc7dcd93136737250fd51a2a6ae7501\n",
      "✅ Data Stored: PAT897|66|126/71|96|37.5, Txn Hash: 9689b1ebb8c82559c997517fc9d4223ef8432854839984bf9db11a6a7370e07d\n",
      "✅ Data Stored: PAT613|60|134/62|98|37.8, Txn Hash: a2f57a81423b8869b5ddfd0edb817a0339273670e68ccfbe66a82caed21c40ee\n",
      "✅ Data Stored: PAT701|76|119/85|99|36.3, Txn Hash: 2381eb2aef1a88b7a96fcbb6974d942b8508349b2f4918e5f870caf0976b431e\n",
      "✅ Data Stored: PAT245|70|101/81|96|37.2, Txn Hash: 84c0a04c4173a8d84c1b8f2fa9b3192085e3b2a1d0aa7f973d0da577ebab47ba\n",
      "✅ Data Stored: PAT520|73|137/73|98|36.4, Txn Hash: dfe570234703d9f8e7a631e9755d36992185bd342dac729b9f98a976f3baa72c\n",
      "✅ Data Stored: PAT798|85|131/62|99|37.6, Txn Hash: 165222fba15212e9e8a3c0e960d8a0c5646deaed1ceea5a5999ac6d0b7db73c3\n",
      "✅ Data Stored: PAT486|81|129/60|98|36.1, Txn Hash: 9e0ff9c183cba710cdaea30aac4769eebe4bb41cf878341fc1c1752bb3ca2013\n",
      "✅ Data Stored: PAT960|90|120/80|97|37.8, Txn Hash: c47099044ad459460f9a28c17556ea70dc3b3862b3cfc096eed3518a4bc81a9e\n",
      "✅ Data Stored: PAT650|94|102/61|97|37.9, Txn Hash: 355032724d494fbd2ae31d66762bf9e6d94cded46de72b36865ff51c6983083b\n",
      "✅ Data Stored: PAT373|64|114/70|98|36.3, Txn Hash: f8b2ff8616a9d673a671d6d0c942566420d67ed65241ed3f5a5615b26d55c80f\n",
      "✅ Data Stored: PAT895|96|109/87|95|37.5, Txn Hash: cdf6629605f6f84c007b62065c519fd3b6c6bbfcfeca8ac2c434861a0008f687\n",
      "✅ Data Stored: PAT206|70|131/61|95|37.9, Txn Hash: 738d59ec84450f5c427a9f63ee22d203f3865fb252bae7630af38342f0e25df7\n",
      "✅ Data Stored: PAT188|69|107/69|97|36.2, Txn Hash: 15064a5d48147308ef26e8fffcce522c924b5243d518f9df1f063dd4c2b59280\n",
      "✅ Data Stored: PAT536|86|139/65|97|37.3, Txn Hash: a6b25485ec3cf0af93d957546cf154e69b5fd081171fc3029fb0a2bbbc6fb958\n",
      "✅ Data Stored: PAT699|74|138/76|95|36.3, Txn Hash: f40a64b7388756bbe88d38b34e9fe2693e15d67bc9b2659bf53878f4f779dd9c\n",
      "✅ Data Stored: PAT701|94|103/88|97|36.2, Txn Hash: 61839ef90f100def3295710f3ac6330fba5e950cdf3ce475c096cab6319b8a02\n",
      "✅ Data Stored: PAT486|96|124/87|99|36.7, Txn Hash: 2dece54271eb6a4b785e696960b360dcfe5096c63ecae71e42dbbd619f06b0e3\n",
      "✅ Data Stored: PAT519|82|123/71|95|37.5, Txn Hash: 33baf8d37d99873ab75d24dc49fd4bfeb8a5d869d812644dc1dffb0b6c528fe9\n",
      "✅ Data Stored: PAT584|63|130/89|95|37.5, Txn Hash: 201f25b68c932898723ad9d0064ead3c2868c9baa2e629ef06441c6a0f63c717\n",
      "✅ Data Stored: PAT740|94|123/61|96|37.7, Txn Hash: 1fa37916ba5dc44e64a50e1c1db73588f9b22489d9541e83019e362870fa5a49\n",
      "✅ Data Stored: PAT783|69|107/80|99|36.6, Txn Hash: 4c6109d07c04b00a237e7951c3241397b11392fe80794878fee1bce70fce9c98\n",
      "✅ Data Stored: PAT174|97|137/88|96|36.6, Txn Hash: e02a76bba1c9914cb9fe462b93b587ff25d5be37230bde1402558972493ab273\n",
      "✅ Data Stored: PAT913|79|114/68|98|38.0, Txn Hash: 38fe2d75fe346005ae8e944c283280fe45b5ce6c9b363876f6837284bb3c0e6d\n",
      "✅ Data Stored: PAT314|88|112/75|98|37.6, Txn Hash: 76a6f8c62959c9d7e148322c9ba3365223485e06a348827cea5c6a0005a22ea2\n",
      "✅ Data Stored: PAT247|90|131/84|97|36.1, Txn Hash: 35250add3defc6905e5a383d7a2cd2ee485d51126f71dca854484e6d7da5c027\n",
      "✅ Data Stored: PAT963|98|102/80|99|36.5, Txn Hash: 323dfe56bdf5f48ccc28b95eb40c3b7fd12a535222ae549e8867fcd05f73e033\n",
      "✅ Data Stored: PAT406|82|117/72|96|37.2, Txn Hash: bb2702ee9b39480555da4b30afcf7862079721b1d14ebbb369fad071b49791a8\n",
      "✅ Data Stored: PAT102|82|107/82|95|36.8, Txn Hash: 565390e879f3a96e50ca134ec7d48faccfb034828a42837c5c1d832b85020193\n",
      "✅ Data Stored: PAT569|89|111/77|98|37.1, Txn Hash: b9bccf7269def895fd4a23328a0f590dea46824c77d5050bf5650b24f23d9678\n",
      "✅ Data Stored: PAT463|78|130/66|97|36.4, Txn Hash: 8c16a879af64da2b1334a0f1f465da9d6de0665e45629d3485840f6e359a291e\n",
      "✅ Data Stored: PAT610|92|131/79|97|37.7, Txn Hash: 3d04129b678643dfd8453d974538aa87f8699b67a6c33554b19cb89f50411606\n",
      "✅ Data Stored: PAT716|69|126/78|99|37.0, Txn Hash: a35ba5ff741de164d0d2723754a01113ab8e5b4e55e5c292b54200be5e5e7d35\n",
      "✅ Data Stored: PAT158|96|114/85|97|36.8, Txn Hash: eaf1207860bd21198537eb59b368221c63caaa1410d68f0a9a96949677180a57\n",
      "✅ Data Stored: PAT936|64|129/75|99|36.5, Txn Hash: aaa0273fcb7237a069ba14ec0aaeba011c3b75e7c4e1b829383c9b333261fcff\n",
      "✅ Data Stored: PAT960|68|113/77|96|37.9, Txn Hash: fbbfd92f1cf6ddaeeb4616a56c1dc1b2a027fc6a0483a298c218d7ff23333837\n",
      "✅ Data Stored: PAT545|66|136/65|96|37.8, Txn Hash: 56c2dcefcb6eb91b58ee7234d3368f7098a2b8da306f74692935ce6b2434f50f\n",
      "✅ Data Stored: PAT647|68|103/67|96|37.5, Txn Hash: 77753f43cbf271efe1784b18145645da8c5bce9726038e54b76402e39ef65622\n",
      "✅ Data Stored: PAT709|61|101/84|95|36.3, Txn Hash: 3918445bb71e9339fe598394113b44094a45370a189a7f8c1978819941220d21\n",
      "✅ Data Stored: PAT294|68|106/83|95|37.2, Txn Hash: 03722b2a6c21802b5c9b01763d39aa266b9620a3c9f88d39aba7ebec9961f7e2\n",
      "✅ Data Stored: PAT427|91|132/68|96|36.4, Txn Hash: c080b6b68f3bd6e6c56662d685c6726e91487af306f0b203266ba3af6a26d050\n",
      "✅ Data Stored: PAT456|61|116/74|96|36.7, Txn Hash: 8ff978d7e451d07da8b120957e8577db40498f17b9c8b90592bc52a77f883141\n",
      "✅ Data Stored: PAT708|67|129/67|95|36.1, Txn Hash: 23d5b76787223ff618cd3f33427801a4a6e2ac902b72df91258c15108a7083f5\n",
      "✅ Data Stored: PAT638|77|124/61|98|36.3, Txn Hash: dd9489243590ae2b20b2844ca7f93a297911cdc18b830c6ba995d78012d08ca0\n",
      "✅ Data Stored: PAT826|67|127/62|95|36.5, Txn Hash: 58a9c4043a36efef9f380a28e500811dac80a423e5dfef188b0aedc98a4fe563\n",
      "✅ Data Stored: PAT365|84|122/64|99|37.6, Txn Hash: f43547aabda6bb79947d7fadd462ce4e1cd57db4b4737636d48058af15b51658\n",
      "✅ Data Stored: PAT308|87|109/81|98|37.0, Txn Hash: 3f6ace5c5237477bd0f9e30710ae3732d80e69d19c42d0ac1a4586b1b5d24297\n",
      "✅ Data Stored: PAT706|89|116/84|98|36.0, Txn Hash: c2681a553c12dd8fca7240227993bcc4713331e3637d0758c47a01a7a43eeeb0\n",
      "✅ Data Stored: PAT333|63|119/87|96|37.4, Txn Hash: 649fd70d5b3592d30449bd2e8cbb82ae0aba32d0bf5c089906b59920c298f7bb\n",
      "✅ Data Stored: PAT998|74|107/78|99|36.2, Txn Hash: 8e2828ba4d1ec0af9791a9ee8682844f66e48d66be9b2071a8b871d914a67ebb\n",
      "✅ Data Stored: PAT954|60|120/73|96|37.6, Txn Hash: 4cf72c3d406d229dc41ed6b1ee5748959391794d3758923479fc853e0114820e\n",
      "✅ Data Stored: PAT757|85|120/65|98|36.9, Txn Hash: 5a56ffb65bebd25c28e9fc50439b0a9b0021a3dc048fcee82b14b5a9f0f095b7\n",
      "✅ Data Stored: PAT745|62|130/64|96|37.5, Txn Hash: f7d0b81115e5fba543739209920c8108a13c9884e78bb0e52a04bdcbdf08454f\n",
      "✅ Data Stored: PAT327|70|107/75|96|36.0, Txn Hash: ccc3ccbcdf4c2b66472dcf6b18f1aeca602c8cd599776c1787bde09340849fdb\n",
      "✅ Data Stored: PAT967|92|130/73|99|37.0, Txn Hash: 9a6a2cf2ef0f46722ac6e1db48f7a3db4f4072e72d538cf5e434ede386b20af8\n",
      "✅ Data Stored: PAT493|93|107/79|97|37.8, Txn Hash: 3af7fc0e5e627775c1848d308aee8df2d8ee139eba1841177d6597e0136e2c41\n",
      "✅ Data Stored: PAT446|79|119/70|98|37.6, Txn Hash: 05eca9fed2ee45110ca62e8ab8b4afb164714e5afa525eff55219163a7057ff1\n",
      "✅ Data Stored: PAT527|92|129/68|97|37.7, Txn Hash: 9acadc8e8893552462bf7e4a3dc3bc287ffd79482750b1d4279b14a2b9de7a1e\n",
      "✅ Data Stored: PAT257|83|109/68|95|36.9, Txn Hash: 746c962a8fa44bfda48b08fc673c770ec7f10d2aaa43273869bf84ccd0dbed07\n",
      "✅ Data Stored: PAT336|89|134/87|99|37.6, Txn Hash: ffc3f34ac5eb3cf045d0b00163727c8440feaca95cdd14fc9352dae24e832db1\n",
      "✅ Data Stored: PAT991|79|120/85|96|38.0, Txn Hash: 9b3eff95846c5025851b4b8b17650dc8cb38da0b927f061bb5489f4bfd8444b1\n",
      "✅ Data Stored: PAT636|63|123/67|99|36.1, Txn Hash: 93dc55c27c02083ec73089795fcaa5c955ce9997c0c9011208b4de420ef2525a\n",
      "✅ Data Stored: PAT898|60|110/75|96|37.9, Txn Hash: b3e5824d1edb04d4e26a93667739cf1ae6b00548bf4608735a6580c9cf18a77d\n",
      "✅ Data Stored: PAT217|63|121/79|96|36.8, Txn Hash: 6069cb7cfc087d086064f14e91653a6221f2f38e623398593610acf408d11e9c\n",
      "✅ Data Stored: PAT823|96|129/76|96|36.4, Txn Hash: 9376a097736a78f8b14494488be989fc86181a250da59e1c0efb22185603b390\n",
      "✅ Data Stored: PAT580|82|111/64|95|36.3, Txn Hash: 92c950e6c133e58191f478f237871b24a5388fa4eaead3209588a0789a99e5ae\n",
      "✅ Data Stored: PAT756|69|108/89|97|36.5, Txn Hash: 30d7f43880d55c2551e6536a740c1e3545c538a3e06a36e54dbef6b82fff8998\n",
      "✅ Data Stored: PAT189|73|135/79|96|36.5, Txn Hash: ae0ddefe9a6970f9a64ba73919622ffa794e3b306aad34dd2a1ef5222f944e42\n",
      "✅ Data Stored: PAT628|91|118/71|98|36.7, Txn Hash: cb602d783d77377ad61cee0bd773f8d895129bf8671fddea26c38f44ab7d6bdb\n",
      "✅ Data Stored: PAT641|61|113/81|95|36.6, Txn Hash: bce718f882d84986d96aae834c50390d86a62a8dcf679ba9817fe78414a1ba9f\n",
      "✅ Data Stored: PAT715|71|123/87|99|37.8, Txn Hash: f9614c349329e255b6987cd161cf7d39543e5e2173ca95196a217bcbe766f4e0\n",
      "✅ Data Stored: PAT965|85|137/60|97|36.6, Txn Hash: 4f704d042127e532976a6eeccb55dc76d46cff4680bdc91f39724a0395aedfad\n",
      "✅ Data Stored: PAT321|91|122/70|97|37.1, Txn Hash: ce6f1d323e8d617f8f6e73cb07f2eb36607bf23219bdfccf21eb16ae7ab8ec40\n",
      "✅ Data Stored: PAT365|86|112/70|96|36.6, Txn Hash: cb87b4c2916ec289521e0499d0423d2fd3504f2804c9171e755c5e43e2152d9b\n",
      "✅ Data Stored: PAT799|77|118/63|99|37.3, Txn Hash: 22df63ca94dda84a860c5f0663d961a9bcba196e735acd046a7ae9c2cfa3bac1\n"
     ]
    }
   ],
   "source": [
    "for _, row in df.iterrows():\n",
    "    send_iot_data(\n",
    "                  str(row['patient_id']),\n",
    "                   (row['heart_rate']),\n",
    "                   str(row['blood_pressure']),\n",
    "                   (row['oxygen_level']),\n",
    "                   str(row['body_temp'])\n",
    "                   )\n",
    "    \n",
    "    time.sleep(2)  # Sleep to avoid hitting gas limits too quickly\n",
    "\n",
    "    "
   ]
  },
  {
   "cell_type": "code",
   "execution_count": 10,
   "id": "3b93d342",
   "metadata": {},
   "outputs": [
    {
     "name": "stdout",
     "output_type": "stream",
     "text": [
      "Successfully called getTotalRecords().\n",
      "Total records currently stored in the contract: 101\n",
      "The contract is responding, and it has 101 record(s).\n"
     ]
    }
   ],
   "source": [
    "get_total_records()"
   ]
  },
  {
   "cell_type": "code",
   "execution_count": null,
   "id": "4a183eea",
   "metadata": {},
   "outputs": [],
   "source": []
  },
  {
   "cell_type": "code",
   "execution_count": null,
   "id": "66a5a008",
   "metadata": {},
   "outputs": [
    {
     "name": "stdout",
     "output_type": "stream",
     "text": [
      "✅ First Record: [1748418044, 'PAT220', 79, '110/80', 99, '37.5']\n"
     ]
    },
    {
     "ename": "",
     "evalue": "",
     "output_type": "error",
     "traceback": [
      "\u001b[1;31mThe Kernel crashed while executing code in the current cell or a previous cell. \n",
      "\u001b[1;31mPlease review the code in the cell(s) to identify a possible cause of the failure. \n",
      "\u001b[1;31mClick <a href='https://aka.ms/vscodeJupyterKernelCrash'>here</a> for more info. \n",
      "\u001b[1;31mView Jupyter <a href='command:jupyter.viewOutput'>log</a> for further details."
     ]
    }
   ],
   "source": [
    "    first_record = contract.functions.getRecord(0).call()\n",
    "print(f\"✅ First Record: {first_record}\")"
   ]
  },
  {
   "cell_type": "markdown",
   "id": "02aa9fce",
   "metadata": {},
   "source": [
    "WEEK 6: RETRIEVAL OF STORED DATA"
   ]
  },
  {
   "cell_type": "code",
   "execution_count": null,
   "id": "25bdd15b",
   "metadata": {},
   "outputs": [],
   "source": [
    "import pandas as pd #Import pandas for data manipulation"
   ]
  },
  {
   "cell_type": "code",
   "execution_count": 12,
   "id": "c1c013be",
   "metadata": {},
   "outputs": [
    {
     "name": "stdout",
     "output_type": "stream",
     "text": [
      "Total Records: 101\n"
     ]
    }
   ],
   "source": [
    "total_records = contract.functions.getTotalRecords().call() #Get total records from the contract\n",
    "print(f\"Total Records: {total_records}\")"
   ]
  },
  {
   "cell_type": "code",
   "execution_count": 16,
   "id": "20ee7e37",
   "metadata": {},
   "outputs": [
    {
     "name": "stdout",
     "output_type": "stream",
     "text": [
      "            timestamp patient_ID  heart_rate blood_pressure  oxygen_level  \\\n",
      "0 2025-05-28 07:40:44     PAT220          79         110/80            99   \n",
      "1 2025-05-28 07:42:00     PAT559          64         106/61            98   \n",
      "2 2025-05-28 07:42:02     PAT920          69         123/65            96   \n",
      "3 2025-05-28 07:42:04     PAT505          74         104/85            97   \n",
      "4 2025-05-28 07:42:06     PAT849          78         103/82            95   \n",
      "\n",
      "  body_temp  \n",
      "0      37.5  \n",
      "1      37.8  \n",
      "2      36.1  \n",
      "3      36.9  \n",
      "4      37.4  \n"
     ]
    }
   ],
   "source": [
    "#Retrieve all records from the smart contract\n",
    "\n",
    "data = []\n",
    "\n",
    "for i in range(total_records):\n",
    "    record = contract.functions.getRecord(i).call()\n",
    "    data.append({\n",
    "        \"timestamp\": record[0],\n",
    "        \"patient_ID\": record[1],\n",
    "        \"heart_rate\": record[2],\n",
    "        \"blood_pressure\": record[3],\n",
    "        \"oxygen_level\": record[4],\n",
    "        \"body_temp\": record[5]\n",
    "    })\n",
    "\n",
    "#Convert to DataFrame\n",
    "\n",
    "df = pd.DataFrame(data)\n",
    "\n",
    "df['timestamp'] = pd.to_datetime(df['timestamp'], unit='s')  # Convert timestamp to datetime\n",
    "\n",
    "print(df.head())\n"
   ]
  },
  {
   "cell_type": "code",
   "execution_count": 17,
   "id": "5f07f883",
   "metadata": {},
   "outputs": [
    {
     "name": "stdout",
     "output_type": "stream",
     "text": [
      "<class 'pandas.core.frame.DataFrame'>\n",
      "RangeIndex: 101 entries, 0 to 100\n",
      "Data columns (total 6 columns):\n",
      " #   Column          Non-Null Count  Dtype         \n",
      "---  ------          --------------  -----         \n",
      " 0   timestamp       101 non-null    datetime64[ns]\n",
      " 1   patient_ID      101 non-null    object        \n",
      " 2   heart_rate      101 non-null    int64         \n",
      " 3   blood_pressure  101 non-null    object        \n",
      " 4   oxygen_level    101 non-null    int64         \n",
      " 5   body_temp       101 non-null    object        \n",
      "dtypes: datetime64[ns](1), int64(2), object(3)\n",
      "memory usage: 4.9+ KB\n"
     ]
    }
   ],
   "source": [
    "#Check DataFrame Information\n",
    "df.info()"
   ]
  },
  {
   "cell_type": "code",
   "execution_count": 18,
   "id": "72353686",
   "metadata": {},
   "outputs": [],
   "source": [
    "df[\"body_temp\"]= df[\"body_temp\"].astype(float)  # Convert body_temp to float"
   ]
  },
  {
   "cell_type": "code",
   "execution_count": 19,
   "id": "4f9b41f8",
   "metadata": {},
   "outputs": [
    {
     "name": "stdout",
     "output_type": "stream",
     "text": [
      "<class 'pandas.core.frame.DataFrame'>\n",
      "RangeIndex: 101 entries, 0 to 100\n",
      "Data columns (total 6 columns):\n",
      " #   Column          Non-Null Count  Dtype         \n",
      "---  ------          --------------  -----         \n",
      " 0   timestamp       101 non-null    datetime64[ns]\n",
      " 1   patient_ID      101 non-null    object        \n",
      " 2   heart_rate      101 non-null    int64         \n",
      " 3   blood_pressure  101 non-null    object        \n",
      " 4   oxygen_level    101 non-null    int64         \n",
      " 5   body_temp       101 non-null    float64       \n",
      "dtypes: datetime64[ns](1), float64(1), int64(2), object(2)\n",
      "memory usage: 4.9+ KB\n"
     ]
    }
   ],
   "source": [
    "\n",
    "df.info()"
   ]
  },
  {
   "cell_type": "code",
   "execution_count": 22,
   "id": "b25f384f",
   "metadata": {},
   "outputs": [
    {
     "name": "stdout",
     "output_type": "stream",
     "text": [
      "Missing Values in DataFrame: timestamp         0\n",
      "patient_ID        0\n",
      "heart_rate        0\n",
      "blood_pressure    0\n",
      "oxygen_level      0\n",
      "body_temp         0\n",
      "dtype: int64\n"
     ]
    }
   ],
   "source": [
    "missing_values = df.isnull().sum()\n",
    "print(f\"Missing Values in DataFrame: {missing_values}\")"
   ]
  },
  {
   "cell_type": "code",
   "execution_count": 23,
   "id": "788d9cd7",
   "metadata": {},
   "outputs": [
    {
     "name": "stdout",
     "output_type": "stream",
     "text": [
      "✅ Data saved to cleaned_iot_data.csv\n"
     ]
    }
   ],
   "source": [
    "#Save the DataFrame to a CSV file\n",
    "df.to_csv(\"cleaned_iot_data.csv\", index=False)\n",
    "print(\"✅ Data saved to cleaned_iot_data.csv\")"
   ]
  },
  {
   "cell_type": "code",
   "execution_count": null,
   "id": "ae22606c",
   "metadata": {},
   "outputs": [],
   "source": []
  }
 ],
 "metadata": {
  "kernelspec": {
   "display_name": ".venv",
   "language": "python",
   "name": "python3"
  },
  "language_info": {
   "codemirror_mode": {
    "name": "ipython",
    "version": 3
   },
   "file_extension": ".py",
   "mimetype": "text/x-python",
   "name": "python",
   "nbconvert_exporter": "python",
   "pygments_lexer": "ipython3",
   "version": "3.10.8"
  }
 },
 "nbformat": 4,
 "nbformat_minor": 5
}
